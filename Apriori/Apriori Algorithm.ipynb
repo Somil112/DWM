{
 "cells": [
  {
   "cell_type": "code",
   "execution_count": 25,
   "metadata": {},
   "outputs": [],
   "source": [
    "import pandas as pd\n",
    "from collections import Counter # Used to count values belonging to a particular class\n",
    "import itertools # We have used itertools.combinations to find the possible combinations in a list\n",
    "import numpy as np"
   ]
  },
  {
   "cell_type": "code",
   "execution_count": 26,
   "metadata": {},
   "outputs": [
    {
     "name": "stdout",
     "output_type": "stream",
     "text": [
      "  TID     items\n",
      "0  T1  I1,I2,I5\n",
      "1  T2     I2,I4\n",
      "2  T3     I2,I3\n",
      "3  T4  I1,I2,I4\n",
      "4  T5     I1,I3\n"
     ]
    }
   ],
   "source": [
    "# Import Dataset\n",
    "dataset = pd.read_csv('apr.csv')\n",
    "print(dataset.head())"
   ]
  },
  {
   "cell_type": "code",
   "execution_count": 27,
   "metadata": {},
   "outputs": [
    {
     "name": "stdout",
     "output_type": "stream",
     "text": [
      "Input Support: 2\n"
     ]
    }
   ],
   "source": [
    "# Enter the support required\n",
    "support = int(input(\"Input Support: \"))"
   ]
  },
  {
   "cell_type": "code",
   "execution_count": 28,
   "metadata": {},
   "outputs": [
    {
     "name": "stdout",
     "output_type": "stream",
     "text": [
      "Transactions:\n",
      " ['T1', 'T2', 'T3', 'T4', 'T5', 'T6', 'T7', 'T8', 'T9']\n",
      "[['I1,I2,I5']\n",
      " ['I2,I4']\n",
      " ['I2,I3']\n",
      " ['I1,I2,I4']\n",
      " ['I1,I3']\n",
      " ['I2,I3']\n",
      " ['I1,I3']\n",
      " ['I1,I2,I3,I5']\n",
      " ['I1,I2,I3']]\n"
     ]
    }
   ],
   "source": [
    "#Seperate trainsactions and itemsets\n",
    "transaction = dataset.iloc[:,[0]].values.flatten().tolist()\n",
    "itemsets = dataset.iloc[:,[1]].values\n",
    "\n",
    "print(\"Transactions:\\n\",transaction)\n",
    "print(itemsets)"
   ]
  },
  {
   "cell_type": "code",
   "execution_count": 29,
   "metadata": {},
   "outputs": [
    {
     "name": "stdout",
     "output_type": "stream",
     "text": [
      "Count Check list used to check the count of each item\n",
      " ['I1', 'I2', 'I5', 'I2', 'I4', 'I2', 'I3', 'I1', 'I2', 'I4', 'I1', 'I3', 'I2', 'I3', 'I1', 'I3', 'I1', 'I2', 'I3', 'I5', 'I1', 'I2', 'I3']\n",
      "Itemsets\n",
      " [['I1', 'I2', 'I5'], ['I2', 'I4'], ['I2', 'I3'], ['I1', 'I2', 'I4'], ['I1', 'I3'], ['I2', 'I3'], ['I1', 'I3'], ['I1', 'I2', 'I3', 'I5'], ['I1', 'I2', 'I3']]\n"
     ]
    }
   ],
   "source": [
    "countcheck = []\n",
    "temp = []\n",
    "\n",
    "for i in range(len(itemsets)):\n",
    "    templist = itemsets[i][0].split(',')\n",
    "    for item in templist:\n",
    "        countcheck.append(item)        \n",
    "    temp.append(templist)\n",
    "\n",
    "#Actual itemsets\n",
    "itemsets = temp\n",
    "\n",
    "print(\"Count Check list used to check the count of each item\\n\",countcheck)\n",
    "print(\"Itemsets\\n\",itemsets)"
   ]
  },
  {
   "cell_type": "code",
   "execution_count": 30,
   "metadata": {},
   "outputs": [
    {
     "name": "stdout",
     "output_type": "stream",
     "text": [
      "['I2', 'I1', 'I4', 'I5', 'I3']\n",
      "{'I2': 7, 'I3': 6, 'I4': 2, 'I5': 2, 'I1': 6}\n",
      "[('I2', 'I5'), ('I2', 'I3'), ('I2', 'I4'), ('I2', 'I1'), ('I5', 'I3'), ('I5', 'I4'), ('I5', 'I1'), ('I3', 'I4'), ('I3', 'I1'), ('I4', 'I1')]\n"
     ]
    }
   ],
   "source": [
    "# Calculating the C0 and L0 values\n",
    "Cn = dict(Counter(countcheck))\n",
    "Ln = dict()\n",
    "temptransac = []\n",
    "\n",
    "for key,value in Cn.items():\n",
    "    if(value>=support):\n",
    "        Ln[key] = value\n",
    "        temptransac.append(key)\n",
    "        \n",
    "temptransac = list(set(list(np.asarray(temptransac).flatten())))      \n",
    "newlist = list(itertools.combinations(temptransac,2))\n",
    "print(Ln)\n",
    "print(newlist)"
   ]
  },
  {
   "cell_type": "code",
   "execution_count": 31,
   "metadata": {},
   "outputs": [
    {
     "name": "stdout",
     "output_type": "stream",
     "text": [
      "{('I2', 'I5'): 2, ('I2', 'I4'): 2, ('I2', 'I3'): 4, ('I5', 'I1'): 2, ('I2', 'I1'): 4, ('I3', 'I1'): 4}\n",
      "[('I2', 'I5'), ('I3', 'I1'), ('I2', 'I4'), ('I2', 'I3'), ('I5', 'I1'), ('I2', 'I1')]\n",
      "{('I2', 'I1', 'I5'): 2, ('I2', 'I1', 'I3'): 2}\n",
      "[('I2', 'I1', 'I3'), ('I2', 'I1', 'I5')]\n",
      "{}\n",
      "[]\n"
     ]
    }
   ],
   "source": [
    "#Initiate combinations count\n",
    "combcount = 3\n",
    "flag = 0\n",
    "while flag!=1:\n",
    "    Lntemp = Ln\n",
    "    Cn = dict()\n",
    "    Ln = dict()\n",
    "    for i in range(len(newlist)):\n",
    "        count = 0\n",
    "        for j in range(len(itemsets)):\n",
    "            if(all(x in itemsets[j] for x in newlist[i])):\n",
    "                count += 1\n",
    "                \n",
    "        Cn[newlist[i]] = count\n",
    "    temptransac = []\n",
    "    for key,value in Cn.items():\n",
    "        if(value>=support):\n",
    "            Ln[key] = value\n",
    "            temptransac.append(key)\n",
    "    print(Ln)\n",
    "    if bool(Ln) == False:\n",
    "        flag = 1\n",
    "    print(temptransac)\n",
    "    temptransac = list(set(list(np.asarray(temptransac).flatten())))    \n",
    "    newlist = list(itertools.combinations(temptransac,combcount))\n",
    "    combcount += 1\n",
    "    "
   ]
  },
  {
   "cell_type": "code",
   "execution_count": null,
   "metadata": {},
   "outputs": [],
   "source": []
  }
 ],
 "metadata": {
  "kernelspec": {
   "display_name": "Python 3",
   "language": "python",
   "name": "python3"
  },
  "language_info": {
   "codemirror_mode": {
    "name": "ipython",
    "version": 3
   },
   "file_extension": ".py",
   "mimetype": "text/x-python",
   "name": "python",
   "nbconvert_exporter": "python",
   "pygments_lexer": "ipython3",
   "version": "3.5.4"
  }
 },
 "nbformat": 4,
 "nbformat_minor": 2
}
