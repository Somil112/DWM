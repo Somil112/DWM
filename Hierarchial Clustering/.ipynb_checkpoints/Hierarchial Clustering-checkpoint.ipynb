{
 "cells": [
  {
   "cell_type": "markdown",
   "metadata": {},
   "source": [
    "The check function takes the graph \n",
    "and finds the minimum distance from the entire graph"
   ]
  },
  {
   "cell_type": "code",
   "execution_count": 3,
   "metadata": {},
   "outputs": [],
   "source": [
    "def check(graph,symb):\n",
    "    minim = 999\n",
    "    for i in symb:\n",
    "        for j in graph[i]:\n",
    "            if graph[i][j]<= minim:\n",
    "                minim,t1,t2 = graph[i][j],i,j\n",
    "    return t1,t2,minim"
   ]
  },
  {
   "cell_type": "markdown",
   "metadata": {},
   "source": [
    "### Single Link Agglomerative Clustering\n",
    "Finds minimum of two distances"
   ]
  },
  {
   "cell_type": "code",
   "execution_count": 10,
   "metadata": {},
   "outputs": [],
   "source": [
    "def single_link(graph,symb,t1,t2):\n",
    "    # For example t1 = A, t2 = B\n",
    "    # New node AB\n",
    "    graph[t1+t2] = {}\n",
    "    for i in symb:\n",
    "        if i!=t1 and i!=t2:\n",
    "            # Check dist between AB , C which is minimum of dist between C,A and C,B\n",
    "            graph[t1+t2][i] = min(graph[i][t1],graph[i][t2])\n",
    "            graph[i][t1+t2] = graph[t1+t2][i]\n",
    "            del graph[i][t1]\n",
    "            del graph[i][t2]\n",
    "            \n",
    "    del graph[t1]\n",
    "    del graph[t2]\n",
    "    symb.remove(t1)\n",
    "    symb.remove(t2)\n",
    "    symb.append(t1+t2)"
   ]
  },
  {
   "cell_type": "markdown",
   "metadata": {},
   "source": [
    "### Average Link Agglomerative Clustering\n",
    "Finds average between 2 distances"
   ]
  },
  {
   "cell_type": "code",
   "execution_count": 14,
   "metadata": {},
   "outputs": [],
   "source": [
    "def average_link(graph,symb,t1,t2):\n",
    "    graph[t1+t2] = {}\n",
    "    for i in symb:\n",
    "        if i!=t1 and i!=t2:\n",
    "            graph[t1+t2][i] = (graph[i][t1]+graph[i][t2])/2.0\n",
    "            graph[i][t1+t2] = graph[t1+t2][i]\n",
    "            del graph[i][t1]\n",
    "            del graph[i][t2]\n",
    "    del graph[t1]\n",
    "    del graph[t2]\n",
    "    symb.remove(t1)\n",
    "    symb.remove(t2)\n",
    "    symb.append(t1+t2)"
   ]
  },
  {
   "cell_type": "markdown",
   "metadata": {},
   "source": [
    "### Complete Link Agglomerative Clustering\n",
    "Finds max between 2 distances"
   ]
  },
  {
   "cell_type": "code",
   "execution_count": null,
   "metadata": {},
   "outputs": [],
   "source": [
    "def complete_link(graph,symb,t1,t2):\n",
    "    graph[t1+t2] = {}\n",
    "    for i in symb:\n",
    "        if i!=t1 and i!=t2:\n",
    "            graph[t1+t2][i] = max(graph[i][t1],graph[i][t2])\n",
    "            graph[i][t1+t2] = graph[t1+t2][i]\n",
    "            del graph[i][t1]\n",
    "            del graph[i][t2]\n",
    "    del graph[t1]\n",
    "    del graph[t2]\n",
    "    symb.remove(t1)\n",
    "    symb.remove(t2)\n",
    "    symb.append(t1+t2)"
   ]
  },
  {
   "cell_type": "code",
   "execution_count": 16,
   "metadata": {},
   "outputs": [
    {
     "name": "stdout",
     "output_type": "stream",
     "text": [
      "Graph:\n",
      " {'B': {'C': 3, 'D': 9, 'A': 2, 'E': 8}, 'E': {'B': 8, 'D': 4, 'A': 9, 'C': 5}, 'D': {'B': 9, 'E': 4, 'A': 10, 'C': 7}, 'A': {'B': 2, 'E': 9, 'D': 10, 'C': 6}, 'C': {'B': 3, 'D': 7, 'A': 6, 'E': 5}}\n",
      "Symbols:\n",
      " ['A', 'B', 'C', 'D', 'E']\n"
     ]
    }
   ],
   "source": [
    "graph={}\n",
    "graph['A']={'B':2,'C':6,'D':10,'E':9}\n",
    "graph['B']={'A':2,'C':3,'D':9,'E':8}\n",
    "graph['C']={'A':6,'B':3,'D':7,'E':5}\n",
    "graph['D']={'A':10,'B':9,'C':7,'E':4}\n",
    "graph['E']={'A':9,'B':8,'C':5,'D':4}\n",
    "\n",
    "symb=['A','B','C','D','E']\n",
    "\n",
    "print(\"Graph:\\n\",graph)\n",
    "print(\"Symbols:\\n\",symb)"
   ]
  },
  {
   "cell_type": "code",
   "execution_count": 17,
   "metadata": {},
   "outputs": [
    {
     "name": "stdout",
     "output_type": "stream",
     "text": [
      "\n",
      " 1)Single Link \n",
      " 2)Average Link \n",
      " 3)Complete Link\n",
      " Your choice: 2\n",
      "B - A => 2\n",
      "E - D => 4\n",
      "BA - C => 4.5\n",
      "BAC - ED => 7.5\n"
     ]
    }
   ],
   "source": [
    "choice = int(input(\"\\n 1)Single Link \\n 2)Average Link \\n 3)Complete Link\\n Your choice: \"))\n",
    "if(choice == 1):\n",
    "    while len(symb)!=1:\n",
    "        t1,t2,dist = check(graph,symb)\n",
    "        print(t1,'-',t2,'=>',dist)\n",
    "        single_link(graph,symb,t1,t2)\n",
    "elif(choice == 2):\n",
    "    while len(symb)!=1:\n",
    "        t1,t2,dist = check(graph,symb)\n",
    "        print(t1,'-',t2,'=>',dist)\n",
    "        average_link(graph,symb,t1,t2)\n",
    "elif(choice == 3):\n",
    "    while len(symb)!=1:\n",
    "        t1,t2,dist = check(graph,symb)\n",
    "        print(t1,'-',t2,'=>',dist)\n",
    "        complete_link(graph,symb,t1,t2)"
   ]
  }
 ],
 "metadata": {
  "kernelspec": {
   "display_name": "Python 3",
   "language": "python",
   "name": "python3"
  },
  "language_info": {
   "codemirror_mode": {
    "name": "ipython",
    "version": 3
   },
   "file_extension": ".py",
   "mimetype": "text/x-python",
   "name": "python",
   "nbconvert_exporter": "python",
   "pygments_lexer": "ipython3",
   "version": "3.5.4"
  }
 },
 "nbformat": 4,
 "nbformat_minor": 2
}
